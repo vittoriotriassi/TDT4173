{
 "cells": [
  {
   "cell_type": "markdown",
   "metadata": {},
   "source": [
    "# TDT4173: Machine Learning and Case-Based Reasoning - Assignment 1\n",
    "### Author: Vittorio Triassi "
   ]
  },
  {
   "cell_type": "markdown",
   "metadata": {},
   "source": [
    "For the purpose of the following assignment, we will be using *numpy* to better manipulate our datasets and *matplotlib* to show our results."
   ]
  },
  {
   "cell_type": "markdown",
   "metadata": {},
   "source": [
    "## Task 1 - Linear Regression"
   ]
  },
  {
   "cell_type": "code",
   "execution_count": 1,
   "metadata": {},
   "outputs": [],
   "source": [
    "# Import of the libraries that will be used\n",
    "import numpy as np\n",
    "import matplotlib.pyplot as plt"
   ]
  },
  {
   "cell_type": "markdown",
   "metadata": {},
   "source": [
    "#### 1. Implement linear regression with ordinary least squares (OLS) using the closed-form solution seen in Equation 9. Tip: This can be done in a single line of code!"
   ]
  },
  {
   "cell_type": "markdown",
   "metadata": {},
   "source": [
    "To solve the following task, we will write a function called **computeWeights** in which, provided the matrix *X* and its labels vector *y*, we are able to compute the set of the weights we need for the Linear Regression.\n",
    "\n",
    "\\begin{align}\n",
    "    w = (X^TX)^{-1}X^Ty\n",
    "\\end{align}\n",
    "\n"
   ]
  },
  {
   "cell_type": "code",
   "execution_count": 2,
   "metadata": {},
   "outputs": [],
   "source": [
    "def computeWeights(X, y):\n",
    "    w = np.linalg.pinv((X.T.dot(X))).dot(X.T).dot(y)\n",
    "    return w"
   ]
  },
  {
   "cell_type": "markdown",
   "metadata": {},
   "source": [
    "#### 2. Load the data in *train_2d_reg_data.csv* (training data) and *test_2d_reg_data.csv* (test data) and use your OLS implementation to find a set of good weights for the training data. Show the weights as well as the model error $E_{mse}(w)$ for the training and test set after training. Is your model generalizing well?"
   ]
  },
  {
   "cell_type": "code",
   "execution_count": 3,
   "metadata": {},
   "outputs": [],
   "source": [
    "# We read the csv files by using genfromtxt\n",
    "x_1, x_2, y = np.genfromtxt('dataset/regression/train_2d_reg_data.csv', delimiter=',', usecols=(0,1,2), unpack=True)\n",
    "x_1_test, x_2_test, y_test = np.genfromtxt('dataset/regression/test_2d_reg_data.csv', delimiter=',', usecols=(0,1,2), unpack=True)"
   ]
  },
  {
   "cell_type": "markdown",
   "metadata": {},
   "source": [
    "In order to carry out the following task, we need to store our data into two structures: the input matrix **X**, and the **y** vector which will contain the real-valued output. The **X** matrix has to be modified by adding a column of ones. This will let us to include the bias in the computation. Moreover, since our csv files have an extra row (the first one) that defines the columns, we will get rid of it since we need to fill our matrices just with proper examples."
   ]
  },
  {
   "cell_type": "code",
   "execution_count": 4,
   "metadata": {},
   "outputs": [],
   "source": [
    "X0 = np.ones(y.shape[0])\n",
    "X = np.column_stack((X0, x_1, x_2))\n",
    "X = np.delete(X, 0, axis=0)\n",
    "y = np.delete(y, 0, axis=0)\n",
    "\n",
    "X0_test = np.ones(y_test.shape[0])\n",
    "X_test = np.column_stack((X0_test, x_1_test, x_2_test))\n",
    "X_test = np.delete(X_test, 0, axis=0)\n",
    "y_test = np.delete(y_test, 0, axis=0)"
   ]
  },
  {
   "cell_type": "markdown",
   "metadata": {},
   "source": [
    "Now we can find the set of weights for the 2D dataset by calling the aforementioned function"
   ]
  },
  {
   "cell_type": "code",
   "execution_count": 5,
   "metadata": {
    "scrolled": true
   },
   "outputs": [
    {
     "name": "stdout",
     "output_type": "stream",
     "text": [
      "Vector of weights for the 2D dataset: \n",
      "\n",
      "[0.24079271 0.48155686 0.0586439 ]\n",
      "\n"
     ]
    }
   ],
   "source": [
    "w = computeWeights(X, y)\n",
    "print(\"Vector of weights for the 2D dataset: \\n\\n\" + str(w) + \"\\n\")"
   ]
  },
  {
   "cell_type": "markdown",
   "metadata": {},
   "source": [
    "To find the *training* and *testing* errors, we need to apply the following equation:\n",
    "\n",
    "\\begin{align}\n",
    "    E_{mse}(w) = \\frac{1}{N}||Xw-y||^2\n",
    "\\end{align}"
   ]
  },
  {
   "cell_type": "code",
   "execution_count": 6,
   "metadata": {},
   "outputs": [
    {
     "name": "stdout",
     "output_type": "stream",
     "text": [
      "Training error 2D: 0.01038685073146232\n",
      "Testing error 2D: 0.009529764450618972\n"
     ]
    }
   ],
   "source": [
    "training_error = 1/(X.shape[0])*(np.power(np.linalg.norm(X.dot(w)-y),2))\n",
    "testing_error = 1/(X_test.shape[0])*(np.power(np.linalg.norm(X_test.dot(w)-y_test),2))\n",
    "print(\"Training error 2D: \" + str(training_error))\n",
    "print(\"Testing error 2D: \" + str(testing_error))"
   ]
  },
  {
   "cell_type": "markdown",
   "metadata": {},
   "source": [
    "#### 3. Load the data in *train_1d_reg_data.csv* and *test_1d_reg_data.csv* and use your OLS implementation to find a set of good weights for the training data. Using these weights, make a plot of the line fitting the data and show this in the report. Does the line you found fit the data well? If not, discuss in broad terms how this can be remedied. Tip: Remember, for this dataset there are only two weights: the first is the bias, while the second is the slope."
   ]
  },
  {
   "cell_type": "code",
   "execution_count": 7,
   "metadata": {},
   "outputs": [],
   "source": [
    "# We read the csv files by using genfromtxt\n",
    "train_dataset_1D = np.genfromtxt('dataset/regression/train_1d_reg_data.csv', delimiter=',')\n",
    "test_dataset_1D = np.genfromtxt('dataset/regression/test_1d_reg_data.csv', delimiter=',')"
   ]
  },
  {
   "cell_type": "markdown",
   "metadata": {},
   "source": [
    "Also in this case, it is necessary to manipulate the given dataset as well as we did earlier."
   ]
  },
  {
   "cell_type": "code",
   "execution_count": 8,
   "metadata": {},
   "outputs": [],
   "source": [
    "train_data_1D = np.delete(train_dataset_1D, 0, axis=0)\n",
    "train_data_1D = np.delete(train_data_1D, 1, axis=1)\n",
    "\n",
    "X0_1D = np.ones((train_data_1D.shape[0],1))\n",
    "X_1D = np.c_[X0_1D, train_data_1D]\n",
    "#print(\"Size of X: \" + str(X_1D.shape))\n",
    "y_1D = np.delete(train_dataset_1D, 0, axis=1)\n",
    "y_1D = np.delete(y_1D, 0, axis=0)\n",
    "#print(\"Size of y: \" + str(y_1D.shape))\n",
    "\n",
    "test_data_1D = np.delete(test_dataset_1D, 0, axis=0)\n",
    "test_data_1D = np.delete(test_data_1D, 1, axis=1)\n",
    "\n",
    "X0_test_1D = np.ones((test_data_1D.shape[0],1))\n",
    "X_test_1D = np.c_[X0_test_1D, test_data_1D]\n",
    "#print(X_test_1D.shape)\n",
    "y_test_1D = np.delete(test_dataset_1D, 0, axis=1)\n",
    "y_test_1D = np.delete(y_test_1D, 0, axis=0)\n",
    "#print(y_test_1D.shape)"
   ]
  },
  {
   "cell_type": "markdown",
   "metadata": {},
   "source": [
    "Let us calculate the set of the weights for the 1D dataset. It is worth noting that we have just two of them this time."
   ]
  },
  {
   "cell_type": "code",
   "execution_count": 9,
   "metadata": {},
   "outputs": [
    {
     "name": "stdout",
     "output_type": "stream",
     "text": [
      "Vector of weights for the 1D dataset:\n",
      "Bias: [0.1955866]\n",
      "Slope: [0.61288795]\n"
     ]
    }
   ],
   "source": [
    "w_1D = computeWeights(X_1D, y_1D)\n",
    "print(\"Vector of weights for the 1D dataset:\")\n",
    "print(\"Bias: \" + str(w_1D[0]))\n",
    "print(\"Slope: \" + str(w_1D[1]))"
   ]
  },
  {
   "cell_type": "markdown",
   "metadata": {},
   "source": [
    "It is always good to calculate the *training* and the *testing* error even if it will not be used for the next step."
   ]
  },
  {
   "cell_type": "code",
   "execution_count": 10,
   "metadata": {},
   "outputs": [
    {
     "name": "stdout",
     "output_type": "stream",
     "text": [
      "Training error 1D: 0.013758791126537112\n",
      "Testing error 1D: 0.012442457462048931\n"
     ]
    }
   ],
   "source": [
    "training_error_1D = 1/(X_1D.shape[0])*(np.power(np.linalg.norm(X_1D.dot(w_1D)-y_1D),2))\n",
    "testing_error_1D = 1/(X_test_1D.shape[0])*(np.power(np.linalg.norm(X_test_1D.dot(w_1D)-y_test_1D),2))\n",
    "print(\"Training error 1D: \" + str(training_error_1D))\n",
    "print(\"Testing error 1D: \" + str(testing_error_1D))"
   ]
  },
  {
   "cell_type": "markdown",
   "metadata": {},
   "source": [
    "It is time now to plot the line we obtain with the weights found before. The following line should fit our data. For the purpose of this task, we have stored the coordinates of two points in two vectors and then plotted the result on both, the training and test data."
   ]
  },
  {
   "cell_type": "code",
   "execution_count": 11,
   "metadata": {},
   "outputs": [
    {
     "data": {
      "image/png": "[encoded data removed]",
      "text/plain": [
       "<Figure size 432x288 with 1 Axes>"
      ]
     },
     "metadata": {
      "needs_background": "light"
     },
     "output_type": "display_data"
    },
    {
     "data": {
      "image/png": "[encoded data removed]",
      "text/plain": [
       "<Figure size 432x288 with 1 Axes>"
      ]
     },
     "metadata": {
      "needs_background": "light"
     },
     "output_type": "display_data"
    }
   ],
   "source": [
    "x_coords = X_1D[:,1]\n",
    "y_coords = y_1D[:,0]\n",
    "plt.scatter(x_coords, y_coords, color='blue', marker='o')\n",
    "\n",
    "bias = w_1D[0]\n",
    "slope = w_1D[1]\n",
    "\n",
    "x1 = 0.0\n",
    "y1 = slope*x1+bias\n",
    "x2 = 1.0\n",
    "y2 = slope*x2+bias\n",
    "\n",
    "x_ = [x1,x2]\n",
    "y_ = [y1, y2]\n",
    "\n",
    "plt.plot(x_, y_, color='red', linewidth='3')\n",
    "plt.xlabel('Input')\n",
    "plt.ylabel('Prediction')\n",
    "plt.title('Fitting line on training data')\n",
    "plt.show()\n",
    "\n",
    "x_coords_test = X_test_1D[:,1]\n",
    "y_coords_test = y_test_1D[:,0]\n",
    "plt.scatter(x_coords_test, y_coords_test, color='orange', marker='o')\n",
    "plt.plot(x_, y_, color='red', linewidth='3')\n",
    "plt.xlabel('Input')\n",
    "plt.ylabel('Prediction')\n",
    "plt.title('Fitting line on test data')\n",
    "plt.show()"
   ]
  },
  {
   "cell_type": "code",
   "execution_count": null,
   "metadata": {},
   "outputs": [],
   "source": []
  }
 ],
 "metadata": {
  "kernelspec": {
   "display_name": "Python 3",
   "language": "python",
   "name": "python3"
  },
  "language_info": {
   "codemirror_mode": {
    "name": "ipython",
    "version": 3
   },
   "file_extension": ".py",
   "mimetype": "text/x-python",
   "name": "python",
   "nbconvert_exporter": "python",
   "pygments_lexer": "ipython3",
   "version": "3.7.4"
  }
 },
 "nbformat": 4,
 "nbformat_minor": 2
}
