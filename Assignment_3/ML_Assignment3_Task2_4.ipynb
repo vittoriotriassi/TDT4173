{
 "cells": [
  {
   "cell_type": "markdown",
   "metadata": {},
   "source": [
    "# TDT4173: Machine Learning and Case-Based Reasoning - Assignment 3\n",
    "### Author: Vittorio Triassi "
   ]
  },
  {
   "cell_type": "markdown",
   "metadata": {},
   "source": [
    "# Task 2.4 - Neural Network from scratch"
   ]
  },
  {
   "cell_type": "markdown",
   "metadata": {},
   "source": [
    "A fully-connected neural network is able to solve the nonlinear XOR problem, but what is the minimal number of layers and neurons within these layers necessary? Back up your answer with an illustration of the network architecture and an explanation why you believe this is the correct network architecture. Subsequently, develop the functionality required for training this neural network based on the theory that we discussed earlier. As part of this you will need to derive functions for the gradients. Finally, train the network for the amount of rounds (epochs) that you feel appropriate and plot how the loss develops during training. Both the network architecture and graphical plot of error should be included in the report."
   ]
  },
  {
   "cell_type": "markdown",
   "metadata": {},
   "source": [
    "For the purpose of the following task, `numpy` and `matplotlib` were used. Let us start by importing them."
   ]
  },
  {
   "cell_type": "code",
   "execution_count": 1,
   "metadata": {},
   "outputs": [],
   "source": [
    "import numpy as np\n",
    "import matplotlib.pyplot as plt"
   ]
  },
  {
   "cell_type": "markdown",
   "metadata": {},
   "source": [
    "For the following task, we are asked to solve the XOR problem by using a Neural Network (NN) created from scratch. A very common problem with NNs, is the need to increase the non-linearity to be able to generalize and consequently to correctly predict over specific datasets. In our case, we want to solve a basic but at the same time very effective problem, and to do so we start asking ourselves how many layers we need in our network. It turns out that in order to be able to predict hypotheses for the XOR problem, it is not possible to use just a single neuron. The reason is that we can not plot one line that is able to separate our data points in such a way that the predictions are correct. It seems clear then, that we need to increase the complexity of the function we want to predict and to achieve that we need a more complex architecture. The impacts that such a thing has on our network is the need to stack a hidden layer made up of at least two neurons. In our implementations, we can set the number of hidden neurons that is initially set equal to 2 but can be modified with any other value. In our task, we do not have a specific dataset but we would rather want to learn a function that predicts the XOR table. That is why the first step is the creation of our truth table (that is going to represent the training examples) with the respective true labels (the value for which the two input features are true or false)"
   ]
  },
  {
   "cell_type": "code",
   "execution_count": 2,
   "metadata": {},
   "outputs": [],
   "source": [
    "X = np.array([[0,0],\n",
    "              [0,1],\n",
    "              [1,0],\n",
    "              [1,1]])\n",
    "\n",
    "y = np.array([[0],[1],[1],[0]])"
   ]
  },
  {
   "cell_type": "code",
   "execution_count": 7,
   "metadata": {},
   "outputs": [],
   "source": [
    "iterations = 20000\n",
    "neurons = 2"
   ]
  },
  {
   "cell_type": "markdown",
   "metadata": {},
   "source": [
    "Then, we carry on by defining the functions for the sigmoid, the derivative of the sigmoid, the forward and backpropagation."
   ]
  },
  {
   "cell_type": "code",
   "execution_count": 4,
   "metadata": {},
   "outputs": [],
   "source": [
    "def sigmoid(x):\n",
    "    return 1.0/(1 + np.exp(-x))\n",
    "\n",
    "def sigmoid_grad(x):\n",
    "    return sigmoid(x) * (1.0 - sigmoid(x))"
   ]
  },
  {
   "cell_type": "code",
   "execution_count": 5,
   "metadata": {},
   "outputs": [],
   "source": [
    "class NeuralNetwork:\n",
    "    def __init__(self, X, y, neurons):\n",
    "        \n",
    "        self.X, self.y = X, y\n",
    "        \n",
    "        self.W1 = np.random.rand(self.X.shape[1], neurons) \n",
    "        self.W2 = np.random.rand(neurons, 1) \n",
    "        \n",
    "        self.prediction = np.zeros(self.y.shape)\n",
    "\n",
    "    def forward(self):\n",
    "      \n",
    "        z1 = np.dot(self.X, self.W1)\n",
    "        a1 = sigmoid(z1)\n",
    "        z2 = np.dot(a1, self.W2)\n",
    "        self.prediction = sigmoid(z2)\n",
    "\n",
    "        return np.dot((self.y - self.prediction).T, (self.y - self.prediction))\n",
    "      \n",
    "    def backpropagation(self):\n",
    "\n",
    "        n = self.X.shape[0] \n",
    "        learning_rate = 0.3\n",
    "        \n",
    "        d_Z2 = self.y - self.prediction\n",
    "        d_Z1 = np.multiply(np.dot(self.W2, d_Z2.T).T, sigmoid_grad(np.dot(self.X, self.W1)))\n",
    "        self.W2 += ((np.dot(sigmoid(np.dot(self.X, self.W1)).T, d_Z2)) / n) * (learning_rate)\n",
    "        self.W1 += (np.dot(self.X.T, d_Z1) / n) * (learning_rate)"
   ]
  },
  {
   "cell_type": "markdown",
   "metadata": {},
   "source": [
    "As far as parameters such as the learning rate and the number of iterations, several combinations were carried out. In the end, we obtained quite stable results when the traning went over $20000$ iterations with a learning rate equal to $0.3$. When trying to predict, we obtained the results shown below. As we can see, our configuration let us to predict with quite good performance. As regards to the **Loss function** and how this was minimized, we plot the number of iterations over the cost. In the plot below, it is quite clear that the function gets correctly minimized and converges towards zero updating properly the weights of the model. "
   ]
  },
  {
   "cell_type": "code",
   "execution_count": 8,
   "metadata": {},
   "outputs": [
    {
     "name": "stdout",
     "output_type": "stream",
     "text": [
      "Classes: \n",
      " [[0 1 1 0]]\n",
      "Predictions :\n",
      " [[0.01843785 0.95232588 0.95232594 0.07880215]]\n"
     ]
    },
    {
     "data": {
      "image/png": "[encoded data removed]",
      "text/plain": [
       "<Figure size 432x288 with 1 Axes>"
      ]
     },
     "metadata": {
      "needs_background": "light"
     },
     "output_type": "display_data"
    }
   ],
   "source": [
    "NN = NeuralNetwork(X, y, neurons)\n",
    "\n",
    "J = np.zeros((iterations, 1))\n",
    "\n",
    "for i in range(iterations):\n",
    "    cost = NN.forward()\n",
    "    NN.backpropagation()\n",
    "    J[i] = cost\n",
    "\n",
    "print(\"Classes: \\n\",  (y.T))\n",
    "print(\"Predictions :\\n\", NN.prediction.T)\n",
    "\n",
    "plt.figure()\n",
    "plt.plot(J)\n",
    "plt.xlabel('Epochs')\n",
    "plt.ylabel('Loss')\n",
    "plt.title('Loss function')\n",
    "plt.show()"
   ]
  }
 ],
 "metadata": {
  "kernelspec": {
   "display_name": "Python 3",
   "language": "python",
   "name": "python3"
  },
  "language_info": {
   "codemirror_mode": {
    "name": "ipython",
    "version": 3
   },
   "file_extension": ".py",
   "mimetype": "text/x-python",
   "name": "python",
   "nbconvert_exporter": "python",
   "pygments_lexer": "ipython3",
   "version": "3.7.4"
  }
 },
 "nbformat": 4,
 "nbformat_minor": 2
}
